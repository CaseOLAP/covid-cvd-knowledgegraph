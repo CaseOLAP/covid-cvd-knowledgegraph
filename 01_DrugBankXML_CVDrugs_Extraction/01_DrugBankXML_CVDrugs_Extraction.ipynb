{
 "cells": [
  {
   "cell_type": "markdown",
   "metadata": {},
   "source": [
    "### Notebook for extracting cardiovascular drugs from DrugBank XML"
   ]
  },
  {
   "cell_type": "code",
   "execution_count": 1,
   "metadata": {},
   "outputs": [],
   "source": [
    "import json\n",
    "import os\n",
    "import _pickle\n",
    "import pandas as pd\n",
    "from lxml import etree"
   ]
  },
  {
   "cell_type": "code",
   "execution_count": 2,
   "metadata": {},
   "outputs": [],
   "source": [
    "import xml.etree.ElementTree as ET\n",
    "tree = ET.parse('fulldb21.xml')\n",
    "root = tree.getroot()"
   ]
  },
  {
   "cell_type": "code",
   "execution_count": null,
   "metadata": {},
   "outputs": [],
   "source": [
    "import parse_xml\n",
    "from parse_xml import *"
   ]
  },
  {
   "cell_type": "markdown",
   "metadata": {},
   "source": [
    "#### Identify Drugbank IDs and names of the 160 cardivascular drugs in the 'drug-category-target.csv' file"
   ]
  },
  {
   "cell_type": "code",
   "execution_count": 12,
   "metadata": {},
   "outputs": [],
   "source": [
    "os.chdir(r'C:\\Users\\ttran\\OneDrive\\Desktop\\COVID-CDV-DATA')\n",
    "df = pd.read_csv('drug-category-target.csv')\n",
    "df2 = pd.read_excel('cvd_drug_syn.xlsx')"
   ]
  },
  {
   "cell_type": "code",
   "execution_count": 173,
   "metadata": {},
   "outputs": [
    {
     "data": {
      "text/html": [
       "<div>\n",
       "<style scoped>\n",
       "    .dataframe tbody tr th:only-of-type {\n",
       "        vertical-align: middle;\n",
       "    }\n",
       "\n",
       "    .dataframe tbody tr th {\n",
       "        vertical-align: top;\n",
       "    }\n",
       "\n",
       "    .dataframe thead th {\n",
       "        text-align: right;\n",
       "    }\n",
       "</style>\n",
       "<table border=\"1\" class=\"dataframe\">\n",
       "  <thead>\n",
       "    <tr style=\"text-align: right;\">\n",
       "      <th></th>\n",
       "      <th>Unnamed: 0</th>\n",
       "      <th>name</th>\n",
       "      <th>category</th>\n",
       "      <th>target</th>\n",
       "    </tr>\n",
       "  </thead>\n",
       "  <tbody>\n",
       "    <tr>\n",
       "      <th>0</th>\n",
       "      <td>0</td>\n",
       "      <td>heparin</td>\n",
       "      <td>Anticoagulants</td>\n",
       "      <td>['P01008', 'P00742', 'P16109', 'P22455', 'P086...</td>\n",
       "    </tr>\n",
       "    <tr>\n",
       "      <th>1</th>\n",
       "      <td>1</td>\n",
       "      <td>warfarin</td>\n",
       "      <td>Anticoagulants</td>\n",
       "      <td>['Q9BQB6', 'O75469']</td>\n",
       "    </tr>\n",
       "  </tbody>\n",
       "</table>\n",
       "</div>"
      ],
      "text/plain": [
       "   Unnamed: 0      name        category  \\\n",
       "0           0   heparin  Anticoagulants   \n",
       "1           1  warfarin  Anticoagulants   \n",
       "\n",
       "                                              target  \n",
       "0  ['P01008', 'P00742', 'P16109', 'P22455', 'P086...  \n",
       "1                               ['Q9BQB6', 'O75469']  "
      ]
     },
     "execution_count": 173,
     "metadata": {},
     "output_type": "execute_result"
    }
   ],
   "source": [
    "df.head(2)"
   ]
  },
  {
   "cell_type": "code",
   "execution_count": 174,
   "metadata": {},
   "outputs": [
    {
     "data": {
      "text/html": [
       "<div>\n",
       "<style scoped>\n",
       "    .dataframe tbody tr th:only-of-type {\n",
       "        vertical-align: middle;\n",
       "    }\n",
       "\n",
       "    .dataframe tbody tr th {\n",
       "        vertical-align: top;\n",
       "    }\n",
       "\n",
       "    .dataframe thead th {\n",
       "        text-align: right;\n",
       "    }\n",
       "</style>\n",
       "<table border=\"1\" class=\"dataframe\">\n",
       "  <thead>\n",
       "    <tr style=\"text-align: right;\">\n",
       "      <th></th>\n",
       "      <th>name</th>\n",
       "      <th>ID</th>\n",
       "      <th>category</th>\n",
       "      <th>desc</th>\n",
       "      <th>syn</th>\n",
       "    </tr>\n",
       "  </thead>\n",
       "  <tbody>\n",
       "    <tr>\n",
       "      <th>0</th>\n",
       "      <td>heparin</td>\n",
       "      <td>DB01109</td>\n",
       "      <td>Anticoagulants</td>\n",
       "      <td>Unfractionated heparin (UH) is a heterogenous ...</td>\n",
       "      <td>Calciparine,Eparina,heparina,Heparinate,Hepari...</td>\n",
       "    </tr>\n",
       "    <tr>\n",
       "      <th>1</th>\n",
       "      <td>warfarin</td>\n",
       "      <td>DB00682</td>\n",
       "      <td>Anticoagulants</td>\n",
       "      <td>Warfarin is an anticoagulant drug normally use...</td>\n",
       "      <td>4-Hydroxy-3-(3-oxo-1-phenylbutyl)coumarin,Coum...</td>\n",
       "    </tr>\n",
       "  </tbody>\n",
       "</table>\n",
       "</div>"
      ],
      "text/plain": [
       "       name       ID        category  \\\n",
       "0   heparin  DB01109  Anticoagulants   \n",
       "1  warfarin  DB00682  Anticoagulants   \n",
       "\n",
       "                                                desc  \\\n",
       "0  Unfractionated heparin (UH) is a heterogenous ...   \n",
       "1  Warfarin is an anticoagulant drug normally use...   \n",
       "\n",
       "                                                 syn  \n",
       "0  Calciparine,Eparina,heparina,Heparinate,Hepari...  \n",
       "1  4-Hydroxy-3-(3-oxo-1-phenylbutyl)coumarin,Coum...  "
      ]
     },
     "execution_count": 174,
     "metadata": {},
     "output_type": "execute_result"
    }
   ],
   "source": [
    "df2.head(2)"
   ]
  },
  {
   "cell_type": "code",
   "execution_count": 175,
   "metadata": {},
   "outputs": [
    {
     "name": "stdout",
     "output_type": "stream",
     "text": [
      "(161, 4) (142, 5)\n"
     ]
    }
   ],
   "source": [
    "print(df.shape, df2.shape)"
   ]
  },
  {
   "cell_type": "code",
   "execution_count": 13,
   "metadata": {},
   "outputs": [
    {
     "name": "stdout",
     "output_type": "stream",
     "text": [
      "156 142\n"
     ]
    }
   ],
   "source": [
    "# check for duplicates\n",
    "print(len(df['name'].unique()), len(df2['name'].unique()))\n",
    "\n",
    "# out of the 161 drugs, only 156 are unique for df."
   ]
  },
  {
   "cell_type": "markdown",
   "metadata": {},
   "source": [
    "The 'drug-category-target.csv' file contains more drugs than the 'cvd_drug_syn.xlsx' file. However, the csv file (df) does not have ID info."
   ]
  },
  {
   "cell_type": "code",
   "execution_count": 14,
   "metadata": {},
   "outputs": [
    {
     "name": "stdout",
     "output_type": "stream",
     "text": [
      "['insulin aspart (novolog)', 'glyburide (glynase)', 'glipizide (glucotrol)', 'tolbutamide (orinase)', 'pioglitazone (actos)', 'insulin lispro (humalog)', 'insulin detemir (levemir)', 'insulin glulisine (apidra)', 'insulin regular (humulin r, novolin r)', 'rosiglitazone (avandia)', 'chlorpropamide (diabenese)', 'nph, neutral protamine hagedorn', 'insulin glargine (lantus/toujeo)', 'insulin']\n"
     ]
    }
   ],
   "source": [
    "# drugs in df that are not in df2:\n",
    "diff = list(set([name.lower() for name in df['name'].tolist()]).\\\n",
    "            difference([name.lower() for name in df2['name'].tolist()]))\n",
    "print(diff)"
   ]
  },
  {
   "cell_type": "markdown",
   "metadata": {},
   "source": [
    "These drugs are the ones that we need to identify in Drugbank b/c they don't have an ID. Their names are likely different than those used in Drugbank as well. Note that insulin regular (humulin r, novolin r), insulin, and nph, neutral protamine hagedorn are all annotated as 'human insulin' in Drugbank, with the latter (NPH) being a product of human insulin. Therefore, we only need to keep one of these entries."
   ]
  },
  {
   "cell_type": "code",
   "execution_count": 15,
   "metadata": {},
   "outputs": [],
   "source": [
    "df_drug_list = []\n",
    "# get rid of other name of drug in parentheses\n",
    "for drug in diff:\n",
    "    df_drug_list.append(drug.split(\" (\",1)[0])\n",
    "cv_drug_list = []\n",
    "\n",
    "for ele in root:\n",
    "    cv_drug_dict = {}\n",
    "    syn = [drug.lower() for drug in ParseXML.getSynonyms(ele)]\n",
    "    if ParseXML.getName(ele).lower() in df_drug_list or\\\n",
    "    any(drug in syn for drug in df_drug_list) or\\\n",
    "    any(drug in df_drug_list for drug in syn):\n",
    "        name = ParseXML.getName(ele)\n",
    "        ID = ParseXML.getID(ele)\n",
    "\n",
    "        cv_drug_dict.update({\"name\": name,\\\n",
    "                                \"ID\": ID})\n",
    "        cv_drug_list.append(cv_drug_dict)"
   ]
  },
  {
   "cell_type": "code",
   "execution_count": 16,
   "metadata": {},
   "outputs": [
    {
     "data": {
      "text/plain": [
       "[{'name': 'Insulin human', 'ID': 'DB00030'},\n",
       " {'name': 'Insulin lispro', 'ID': 'DB00046'},\n",
       " {'name': 'Insulin glargine', 'ID': 'DB00047'},\n",
       " {'name': 'Rosiglitazone', 'ID': 'DB00412'},\n",
       " {'name': 'Chlorpropamide', 'ID': 'DB00672'},\n",
       " {'name': 'Glyburide', 'ID': 'DB01016'},\n",
       " {'name': 'Glipizide', 'ID': 'DB01067'},\n",
       " {'name': 'Tolbutamide', 'ID': 'DB01124'},\n",
       " {'name': 'Pioglitazone', 'ID': 'DB01132'},\n",
       " {'name': 'Insulin aspart', 'ID': 'DB01306'},\n",
       " {'name': 'Insulin detemir', 'ID': 'DB01307'},\n",
       " {'name': 'Insulin glulisine', 'ID': 'DB01309'}]"
      ]
     },
     "execution_count": 16,
     "metadata": {},
     "output_type": "execute_result"
    }
   ],
   "source": [
    "cv_drug_list"
   ]
  },
  {
   "cell_type": "code",
   "execution_count": 17,
   "metadata": {},
   "outputs": [],
   "source": [
    "for ele in root:\n",
    "    cv_drug_dict = {}\n",
    "    if ParseXML.getID(ele) in df2['ID'].tolist():\n",
    "        name = ParseXML.getName(ele)\n",
    "        ID = ParseXML.getID(ele)\n",
    "        \n",
    "        cv_drug_dict.update({\"name\": name,\\\n",
    "                                \"ID\": ID})\n",
    "        cv_drug_list.append(cv_drug_dict)"
   ]
  },
  {
   "cell_type": "code",
   "execution_count": 18,
   "metadata": {},
   "outputs": [
    {
     "data": {
      "text/plain": [
       "154"
      ]
     },
     "execution_count": 18,
     "metadata": {},
     "output_type": "execute_result"
    }
   ],
   "source": [
    "len(cv_drug_list)"
   ]
  },
  {
   "cell_type": "markdown",
   "metadata": {},
   "source": [
    "This is the expected number of drugs in list. 142 in df2 + 12 from df = 154"
   ]
  },
  {
   "cell_type": "markdown",
   "metadata": {},
   "source": [
    "#### Get Drugbank IDs and names of all drugs with ATC classification \"C\""
   ]
  },
  {
   "cell_type": "code",
   "execution_count": 19,
   "metadata": {},
   "outputs": [],
   "source": [
    "atc_drug_list = []\n",
    "\n",
    "for ele in root:\n",
    "    cv_drug_dict = {}\n",
    "    try:\n",
    "        all_atc_codes = ele.find(\"{http://www.drugbank.ca}atc-codes\").\\\n",
    "                        findall(\"{http://www.drugbank.ca}atc-code\")\n",
    "        for atc_code in all_atc_codes:\n",
    "            if atc_code.get('code')[0]==\"C\":\n",
    "                name = ParseXML.getName(ele)\n",
    "                ID = ParseXML.getID(ele)\n",
    "\n",
    "                cv_drug_dict.update({\"name\": name,\\\n",
    "                                       \"ID\": ID})\n",
    "                atc_drug_list.append(cv_drug_dict)\n",
    "                break\n",
    "    except:\n",
    "        continue"
   ]
  },
  {
   "cell_type": "code",
   "execution_count": 20,
   "metadata": {},
   "outputs": [
    {
     "data": {
      "text/plain": [
       "399"
      ]
     },
     "execution_count": 20,
     "metadata": {},
     "output_type": "execute_result"
    }
   ],
   "source": [
    "len(atc_drug_list)"
   ]
  },
  {
   "cell_type": "markdown",
   "metadata": {},
   "source": [
    "There are ~400 drugs that have the ATC code that begins with \"C\", which is indicative of drugs related to the cardivascular system."
   ]
  },
  {
   "cell_type": "code",
   "execution_count": 21,
   "metadata": {},
   "outputs": [],
   "source": [
    "tmp_ID = []\n",
    "cv_drug_list_ID = []\n",
    "for i in atc_drug_list:\n",
    "    tmp_ID.append(i['ID'])\n",
    "for i in cv_drug_list:\n",
    "    cv_drug_list_ID.append(i['ID'])"
   ]
  },
  {
   "cell_type": "code",
   "execution_count": 22,
   "metadata": {},
   "outputs": [
    {
     "data": {
      "text/plain": [
       "296"
      ]
     },
     "execution_count": 22,
     "metadata": {},
     "output_type": "execute_result"
    }
   ],
   "source": [
    "# find number of drugs extracted using ATC code that are not already in\n",
    "# dfs we started out with.\n",
    "diff = list(set(tmp_ID).difference(cv_drug_list_ID))\n",
    "len(diff)"
   ]
  },
  {
   "cell_type": "code",
   "execution_count": 23,
   "metadata": {},
   "outputs": [],
   "source": [
    "for drug in atc_drug_list:\n",
    "    if drug['ID'] in diff:\n",
    "        cv_drug_list.append(drug)"
   ]
  },
  {
   "cell_type": "code",
   "execution_count": 187,
   "metadata": {},
   "outputs": [
    {
     "data": {
      "text/plain": [
       "450"
      ]
     },
     "execution_count": 187,
     "metadata": {},
     "output_type": "execute_result"
    }
   ],
   "source": [
    "len(cv_drug_list)\n",
    "# 154 drugs from dfs + 296 from ATC code = 450"
   ]
  },
  {
   "cell_type": "code",
   "execution_count": 24,
   "metadata": {},
   "outputs": [
    {
     "data": {
      "text/plain": [
       "450"
      ]
     },
     "execution_count": 24,
     "metadata": {},
     "output_type": "execute_result"
    }
   ],
   "source": [
    "# make list containing only IDs of CV drugs\n",
    "cv_drug_list_ID = []\n",
    "for drug in cv_drug_list:\n",
    "    cv_drug_list_ID.append(drug['ID'])\n",
    "len(cv_drug_list_ID)"
   ]
  },
  {
   "cell_type": "markdown",
   "metadata": {},
   "source": [
    "#### Export list containing CV drug DrugBank IDs. This list will be used as input to generate a list containing CV drugs + relevant info. about each drug (related entities, name, syn, etc.)"
   ]
  },
  {
   "cell_type": "code",
   "execution_count": 26,
   "metadata": {},
   "outputs": [],
   "source": [
    "with open(\"cv_drugs_dbid\", 'wb') as f:\n",
    "    _pickle.dump(cv_drug_list_ID,f)"
   ]
  },
  {
   "cell_type": "markdown",
   "metadata": {},
   "source": [
    "#### Get all elements (run if needed)"
   ]
  },
  {
   "cell_type": "code",
   "execution_count": null,
   "metadata": {},
   "outputs": [],
   "source": [
    "allelements = [elem.tag for elem in root.iter()]"
   ]
  },
  {
   "cell_type": "code",
   "execution_count": null,
   "metadata": {},
   "outputs": [],
   "source": [
    "[i for i, x in enumerate(allelements) if x == \"{http://www.drugbank.ca}enzyme\"]"
   ]
  }
 ],
 "metadata": {
  "kernelspec": {
   "display_name": "Python 3",
   "language": "python",
   "name": "python3"
  },
  "language_info": {
   "codemirror_mode": {
    "name": "ipython",
    "version": 3
   },
   "file_extension": ".py",
   "mimetype": "text/x-python",
   "name": "python",
   "nbconvert_exporter": "python",
   "pygments_lexer": "ipython3",
   "version": "3.8.5"
  }
 },
 "nbformat": 4,
 "nbformat_minor": 4
}
