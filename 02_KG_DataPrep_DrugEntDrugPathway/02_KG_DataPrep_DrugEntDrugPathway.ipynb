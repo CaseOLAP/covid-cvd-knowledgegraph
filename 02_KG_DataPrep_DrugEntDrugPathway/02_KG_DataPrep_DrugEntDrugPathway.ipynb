{
 "cells": [
  {
   "cell_type": "markdown",
   "metadata": {},
   "source": [
    "### Notebook for extracting relevant info. about cardiovascular drugs extracted from DrugBank XML (related entities, name, synonyms, etc.) and subsequently cleansing the data"
   ]
  },
  {
   "cell_type": "code",
   "execution_count": 113,
   "metadata": {},
   "outputs": [],
   "source": [
    "import json\n",
    "import os\n",
    "import _pickle\n",
    "import xml.etree.ElementTree as ET\n",
    "from lxml import etree\n",
    "from nltk import flatten\n",
    "from importlib import reload"
   ]
  },
  {
   "cell_type": "code",
   "execution_count": 2,
   "metadata": {},
   "outputs": [],
   "source": [
    "os.chdir(r'C:\\Users\\ttran\\OneDrive\\Desktop\\COVID-CDV-DATA\\covidii_KG')"
   ]
  },
  {
   "cell_type": "code",
   "execution_count": 3,
   "metadata": {},
   "outputs": [],
   "source": [
    "import parse_xml\n",
    "from parse_xml import *\n",
    "import cleanse_data\n",
    "from cleanse_data import *\n",
    "import parse_web\n",
    "from parse_web import *"
   ]
  },
  {
   "cell_type": "markdown",
   "metadata": {},
   "source": [
    "Reload modules and re-import classes when needed"
   ]
  },
  {
   "cell_type": "code",
   "execution_count": 30,
   "metadata": {},
   "outputs": [
    {
     "data": {
      "text/plain": [
       "<module 'parse_xml' from 'C:\\\\Users\\\\ttran\\\\OneDrive\\\\Desktop\\\\COVID-CDV-DATA\\\\covidii_graph_codes\\\\parse_xml.py'>"
      ]
     },
     "execution_count": 30,
     "metadata": {},
     "output_type": "execute_result"
    }
   ],
   "source": [
    "reload(parse_xml)\n",
    "from parse_xml import *"
   ]
  },
  {
   "cell_type": "code",
   "execution_count": 76,
   "metadata": {},
   "outputs": [],
   "source": [
    "reload(cleanse_data)\n",
    "from cleanse_data import *"
   ]
  },
  {
   "cell_type": "code",
   "execution_count": 56,
   "metadata": {},
   "outputs": [],
   "source": [
    "reload(parse_web)\n",
    "from parse_web import *"
   ]
  },
  {
   "cell_type": "code",
   "execution_count": 4,
   "metadata": {},
   "outputs": [],
   "source": [
    "tree = ET.parse('fulldb21.xml')\n",
    "root = tree.getroot()"
   ]
  },
  {
   "cell_type": "markdown",
   "metadata": {},
   "source": [
    "Previously, we extracted a list of CV drugs from the XML file. We saved a list of the corresponding DrugBank accession numbers/IDs of those drugs as a python file called 'cv_drugs_dbid'. We will use these IDs to extract all the relevant info. about the drug using the ParseXML class."
   ]
  },
  {
   "cell_type": "code",
   "execution_count": 77,
   "metadata": {},
   "outputs": [],
   "source": [
    "with open(\"cv_drugs_dbid\", 'rb') as f:\n",
    "    cv_drugs_dbid = _pickle.load(f)"
   ]
  },
  {
   "cell_type": "code",
   "execution_count": 78,
   "metadata": {},
   "outputs": [],
   "source": [
    "DATA = []\n",
    "\n",
    "for ele in root:\n",
    "    if ParseXML.getID(ele) in cv_drugs_dbid:\n",
    "        data = {}\n",
    "        ID = ParseXML.getID(ele)\n",
    "        name = ParseXML.getName(ele) \n",
    "        synonyms = ParseXML.getSynonyms(ele)\n",
    "        description = ParseXML.getDescription(ele)\n",
    "        category = ParseXML.getCategory(ele)\n",
    "        atccode = ParseXML.getATCCode(ele)\n",
    "        indication = ParseXML.getIndication(ele)\n",
    "        carriers = ParseXML.getEntities(ele,'carriers')\n",
    "        targets = ParseXML.getEntities(ele,'targets')\n",
    "        transporters = ParseXML.getEntities(ele,'transporters')\n",
    "        enzymes = ParseXML.getEntities(ele,'enzymes')\n",
    "        pathways = ParseXML.getPathways(ele)\n",
    "    \n",
    "        data.update({\"drugbank_id\": ID,\\\n",
    "                \"name\": name,\\\n",
    "                \"synonyms\":synonyms,\\\n",
    "                \"descriptions\": description,\\\n",
    "                \"categories\": category,\\\n",
    "                \"ATC code\": atccode,\\\n",
    "                \"indication\": indication,\\\n",
    "                \"carriers\": carriers,\\\n",
    "                \"targets\":targets,\\\n",
    "                \"transporters\":transporters,\\\n",
    "                \"enzymes\":enzymes,\\\n",
    "                \"pathways\": pathways})    \n",
    "        DATA.append(data)"
   ]
  },
  {
   "cell_type": "code",
   "execution_count": 79,
   "metadata": {
    "scrolled": true
   },
   "outputs": [
    {
     "data": {
      "text/plain": [
       "{'drugbank_id': 'DB00009',\n",
       " 'name': 'Alteplase',\n",
       " 'synonyms': ['Alteplasa',\n",
       "  'Alteplase (genetical recombination)',\n",
       "  'Alteplase, recombinant',\n",
       "  'Alteplase,recombinant',\n",
       "  'Plasminogen activator (human tissue-type protein moiety)',\n",
       "  'rt-PA',\n",
       "  't-PA',\n",
       "  't-plasminogen activator',\n",
       "  'Tissue plasminogen activator',\n",
       "  'Tissue plasminogen activator alteplase',\n",
       "  'Tissue plasminogen activator, recombinant',\n",
       "  'tPA'],\n",
       " 'descriptions': 'Human tissue plasminogen activator, purified, glycosylated, 527 residues purified from CHO cells',\n",
       " 'categories': ['Agents causing angioedema',\n",
       "  'Amino Acids, Peptides, and Proteins',\n",
       "  'Anticoagulants',\n",
       "  'Biological Factors',\n",
       "  'Blood and Blood Forming Organs',\n",
       "  'Blood Proteins',\n",
       "  'Cardiovascular Agents',\n",
       "  'Endopeptidases',\n",
       "  'Enzymes',\n",
       "  'Enzymes and Coenzymes',\n",
       "  'Fibrin Modulating Agents',\n",
       "  'Fibrinolytic Agents',\n",
       "  'Hematologic Agents',\n",
       "  'Hydrolases',\n",
       "  'Ophthalmologicals',\n",
       "  'Peptide Hydrolases',\n",
       "  'Plasminogen Activators',\n",
       "  'Proteins',\n",
       "  'Sensory Organs',\n",
       "  'Serine Endopeptidases',\n",
       "  'Serine Proteases',\n",
       "  'Tissue Plasminogen Activator',\n",
       "  'Tissue Plasminogen Activator, antagonists & inhibitors'],\n",
       " 'ATC code': ['B01AD02', 'S01XA13'],\n",
       " 'indication': 'For management of acute myocardial infarction, acute ischemic strok and for lysis of acute pulmonary emboli',\n",
       " 'carriers': [],\n",
       " 'targets': [{'name': 'Plasminogen',\n",
       "   'drugbank_id': 'BE0000211',\n",
       "   'actions': ['activator'],\n",
       "   'uniprot_id': 'P00747'},\n",
       "  {'name': 'Fibrinogen alpha chain',\n",
       "   'drugbank_id': 'BE0000538',\n",
       "   'actions': [],\n",
       "   'uniprot_id': 'P02671'},\n",
       "  {'name': 'Urokinase plasminogen activator surface receptor',\n",
       "   'drugbank_id': 'BE0000717',\n",
       "   'actions': [],\n",
       "   'uniprot_id': 'Q03405'},\n",
       "  {'name': 'Plasminogen activator inhibitor 1',\n",
       "   'drugbank_id': 'BE0000240',\n",
       "   'actions': [],\n",
       "   'uniprot_id': 'P05121'}],\n",
       " 'transporters': [],\n",
       " 'enzymes': [],\n",
       " 'pathways': [{'name': 'Alteplase Action Pathway',\n",
       "   'smpdb_id': 'SMP0000280',\n",
       "   'category': 'drug_action'}]}"
      ]
     },
     "execution_count": 79,
     "metadata": {},
     "output_type": "execute_result"
    }
   ],
   "source": [
    "DATA[0]"
   ]
  },
  {
   "cell_type": "markdown",
   "metadata": {},
   "source": [
    "Get list of index from DATA where the drug does not interact with any entity (i.e. the value of 'targets', 'carriers', 'enzymes', and 'transporters' is an empty list). These will be removed."
   ]
  },
  {
   "cell_type": "code",
   "execution_count": 80,
   "metadata": {
    "scrolled": true
   },
   "outputs": [
    {
     "name": "stdout",
     "output_type": "stream",
     "text": [
      "[221, 233, 235, 238, 249, 254, 267, 273, 274, 276, 279, 289, 301, 305, 311, 314, 317, 319, 320, 323, 324, 326, 328, 329, 331, 332, 335, 336, 337, 338, 339, 340, 341, 342, 343, 344, 345, 346, 347, 348, 349, 350, 351, 352, 353, 354, 355, 356, 358, 359, 360, 361, 362, 363, 364, 365, 366, 367, 368, 369, 370, 371, 372, 373, 374, 376, 377, 378, 379, 381, 382, 384, 385, 386, 387, 389, 390, 391, 392, 393, 394, 395, 396, 397, 398, 399, 401, 402, 403, 404, 405, 406, 407, 408, 409, 410, 411, 412, 413, 414, 415, 416, 417, 418, 419, 421, 424, 425, 426, 428, 429, 430, 431, 432, 433, 434, 435, 439, 440, 441, 442, 447, 448, 449]\n"
     ]
    }
   ],
   "source": [
    "oCleanseData = CleanseData(DATA)\n",
    "index_list = oCleanseData.getDrugIndexList()\n",
    "print(index_list)"
   ]
  },
  {
   "cell_type": "markdown",
   "metadata": {},
   "source": [
    "Get list of index from DATA where the drug contains at least one entity with a 'Null' UniProt ID. These entities will be removed and the drugs interacting exclusively with these entities will also be removed. The values for each dictionary represent the names of ALL the entities (not just the entity with the null UniProt ID) for that particular index."
   ]
  },
  {
   "cell_type": "code",
   "execution_count": 82,
   "metadata": {},
   "outputs": [
    {
     "data": {
      "text/plain": [
       "[{134: ['Bile acids']},\n",
       " {234: ['mRNA of ApoB-100']},\n",
       " {45: ['Bile acids']},\n",
       " {237: ['Hemoglobin subunit alpha',\n",
       "   'Hemoglobin subunit beta',\n",
       "   'Free radicals',\n",
       "   'Guanylate cyclase soluble subunit alpha-2',\n",
       "   'Nitric oxide synthase, endothelial',\n",
       "   'Aldehyde dehydrogenase, mitochondrial']},\n",
       " {208: [\"cGMP-inhibited 3',5'-cyclic phosphodiesterase A\",\n",
       "   'Tumor necrosis factor',\n",
       "   \"cGMP-inhibited 3',5'-cyclic phosphodiesterase B\",\n",
       "   \"cAMP-specific 3',5'-cyclic phosphodiesterase 4\",\n",
       "   \"cAMP-specific 3',5'-cyclic phosphodiesterase 3\"]},\n",
       " {210: ['Bile acids']},\n",
       " {118: ['Adenosine receptor A1',\n",
       "   'Adenosine receptor A2a',\n",
       "   'Phosphodiesterase enzymes',\n",
       "   \"5'-nucleotidase\",\n",
       "   'Cytochrome P450 1A2']},\n",
       " {119: ['Solute carrier family 12 member 3',\n",
       "   'Cytochrome P450 3A4',\n",
       "   'Epoxide hydrolase 1',\n",
       "   'alpha1-acid glycoprotein',\n",
       "   'Serum albumin',\n",
       "   'Erythrocyte']},\n",
       " {250: ['Calcium ions', 'Coagulation factor XII']}]"
      ]
     },
     "execution_count": 82,
     "metadata": {},
     "output_type": "execute_result"
    }
   ],
   "source": [
    "nulluid_index_info = oCleanseData.getNullUIDIndexInfo()\n",
    "nulluid_index_info"
   ]
  },
  {
   "cell_type": "markdown",
   "metadata": {},
   "source": [
    "Remove entities with 'Null' UniProt ID"
   ]
  },
  {
   "cell_type": "code",
   "execution_count": 83,
   "metadata": {},
   "outputs": [],
   "source": [
    "DATA = oCleanseData.removeNullUIDEntity()"
   ]
  },
  {
   "cell_type": "code",
   "execution_count": null,
   "metadata": {
    "scrolled": true
   },
   "outputs": [],
   "source": [
    "DATA[134]\n",
    "# Entity named 'Bile acids' (does not have a UniProt ID) is gone."
   ]
  },
  {
   "cell_type": "markdown",
   "metadata": {},
   "source": [
    "Remove drugs that interact exclusively with entities with 'Null' UniProt ID"
   ]
  },
  {
   "cell_type": "code",
   "execution_count": 85,
   "metadata": {},
   "outputs": [],
   "source": [
    "# re-initialize object with updated data\n",
    "oCleanseData = CleanseData(DATA)\n",
    "\n",
    "# remove drugs\n",
    "DATA = oCleanseData.removeDrugs()"
   ]
  },
  {
   "cell_type": "code",
   "execution_count": 86,
   "metadata": {},
   "outputs": [
    {
     "data": {
      "text/plain": [
       "322"
      ]
     },
     "execution_count": 86,
     "metadata": {},
     "output_type": "execute_result"
    }
   ],
   "source": [
    "# DATA now has 322 instead of 450 drugs.\n",
    "len(DATA)"
   ]
  },
  {
   "cell_type": "markdown",
   "metadata": {},
   "source": [
    "Make a list (uid_list) of unique UniProt IDs from DATA"
   ]
  },
  {
   "cell_type": "code",
   "execution_count": 87,
   "metadata": {},
   "outputs": [],
   "source": [
    "uid_list = []\n",
    "for drug in DATA:\n",
    "        for entity in ['targets','enzymes','transporters','carriers']:\n",
    "            for ent in drug[entity]:\n",
    "                uid = ent['uniprot_id']\n",
    "                if not uid in uid_list:\n",
    "                    uid_list.append(uid)"
   ]
  },
  {
   "cell_type": "markdown",
   "metadata": {},
   "source": [
    "Get list (dup_uids) of Uniprot IDs that correspond to multiple entities (i.e. duplicate UniProt IDs) from DATA"
   ]
  },
  {
   "cell_type": "code",
   "execution_count": 88,
   "metadata": {},
   "outputs": [],
   "source": [
    "# re-initialize object with updated data\n",
    "oCleanseData = CleanseData(DATA)\n",
    "\n",
    "dup_uids = oCleanseData.getDupUIDs()"
   ]
  },
  {
   "cell_type": "code",
   "execution_count": 89,
   "metadata": {},
   "outputs": [
    {
     "data": {
      "text/plain": [
       "{'P08588': ['BE0000172', 'BE0004872'],\n",
       " 'P08684': ['BE0002638', 'BE0004866'],\n",
       " 'Q12809': ['BE0000090', 'BE0009629'],\n",
       " 'Q14500': ['BE0001131', 'BE0009631'],\n",
       " 'P35348': ['BE0000501', 'BE0004863', 'BE0004888'],\n",
       " 'P08913': ['BE0004864', 'BE0000289'],\n",
       " 'P00915': ['BE0000267', 'BE0009965'],\n",
       " 'P35498': ['BE0004901', 'BE0000141', 'BE0009738'],\n",
       " 'Q13936': ['BE0009739', 'BE0008715', 'BE0000430'],\n",
       " 'P02763': ['BE0000925', 'BE0004879'],\n",
       " 'P27815': ['BE0001133', 'BE0009963'],\n",
       " 'Q06432': ['BE0000679', 'BE0004902'],\n",
       " 'Q14654': ['BE0000708', 'BE0004923'],\n",
       " 'P21397': ['BE0002198', 'BE0004909'],\n",
       " 'Q12791': ['BE0000553', 'BE0004906'],\n",
       " 'P08908': ['BE0000291', 'BE0004862'],\n",
       " 'P54750': ['BE0003565', 'BE0004922'],\n",
       " 'O43497': ['BE0000483', 'BE0008716'],\n",
       " 'Q09428': ['BE0000207', 'BE0008670'],\n",
       " 'P21728': ['BE0000020', 'BE0004889', 'BE0009376'],\n",
       " 'P28482': ['BE0009668', 'BE0000923']}"
      ]
     },
     "execution_count": 89,
     "metadata": {},
     "output_type": "execute_result"
    }
   ],
   "source": [
    "dup_uids"
   ]
  },
  {
   "cell_type": "markdown",
   "metadata": {},
   "source": [
    "Make dictionaries with the names, DrugBank IDs, and UniProt IDs as keys. The dictionary with the UniProt IDs as the keys will only contain non-duplicate UniProt IDs. These dictionaries will make extracting info. much easier downstream."
   ]
  },
  {
   "cell_type": "code",
   "execution_count": 90,
   "metadata": {},
   "outputs": [],
   "source": [
    "ent_name = []\n",
    "ent_dbid = []\n",
    "ent_uid = []\n",
    "name_dict = {}\n",
    "dbid_dict = {}\n",
    "uid_dict = {}\n",
    "\n",
    "for drug in DATA:\n",
    "    for entity in ['targets','carriers','transporters','enzymes']:\n",
    "        for ent in drug[entity]:\n",
    "            if not ent['name'] in ent_name:\n",
    "                ent_name.append(ent['name'])\n",
    "                name_dict.update({ent['name']:{'drugbank_id':ent['drugbank_id'],\\\n",
    "                                                     'uniprot_id':ent['uniprot_id']}})\n",
    "            if not ent['drugbank_id'] in ent_dbid:\n",
    "                ent_dbid.append(ent['drugbank_id'])\n",
    "                dbid_dict.update({ent['drugbank_id']:{'name':ent['name'],\\\n",
    "                                                     'uniprot_id':ent['uniprot_id']}})\n",
    "            if not ent['uniprot_id'] in ent_uid and not \\\n",
    "            ent['uniprot_id'] in list(dup_uids.keys()):\n",
    "                ent_uid.append(ent['uniprot_id'])\n",
    "                uid_dict.update({ent['uniprot_id']:{'name':ent['name'],\\\n",
    "                                                     'drugbank_id':ent['drugbank_id']}})"
   ]
  },
  {
   "cell_type": "markdown",
   "metadata": {},
   "source": [
    "Make a list (ent2check) containing the DrugBank IDs of all the duplicate UniProt IDs. Using the ParseWeb class (contains methods for web scraping), we will check whether each ID in the list corresponds to a protein or protein group. If the latter, then we will find the protein members of the group in the DrugBank webpage corresponding to that group. The entries corresponding to the protein group in DATA will be replaced with the members."
   ]
  },
  {
   "cell_type": "code",
   "execution_count": 91,
   "metadata": {},
   "outputs": [],
   "source": [
    "ent2check = flatten(list(dup_uids.values()))\n",
    "ent2check = list(set(ent2check))"
   ]
  },
  {
   "cell_type": "markdown",
   "metadata": {},
   "source": [
    "From the ent2check list, make a sub-list (protein_dbids) containing only the DrugBank IDs corresponding to proteins, not protein groups. Then, create a list (ent_list) containg dictionaries with each corresponding to a protein group in the ent2check list and info. about its name, DrugBank ID, and members."
   ]
  },
  {
   "cell_type": "code",
   "execution_count": 92,
   "metadata": {},
   "outputs": [],
   "source": [
    "ent_list = []\n",
    "protein_dbids = []\n",
    "\n",
    "for ent in ent2check:\n",
    "    oParseWeb = ParseWeb('https://go.drugbank.com/bio_entities/' + ent,\\\n",
    "                            ent)\n",
    "    html = oParseWeb.getHTML()\n",
    "    kind = oParseWeb.getKind(html)\n",
    "    if kind=='protein':\n",
    "        protein_dbids.append(ent)\n",
    "\n",
    "for ent in ent2check:\n",
    "    oParseWeb = ParseWeb('https://go.drugbank.com/bio_entities/' + ent,\\\n",
    "                            ent)\n",
    "    html = oParseWeb.getHTML()\n",
    "    memberDict = oParseWeb.getMembers(html,dup_uids,uid_list,protein_dbids,\\\n",
    "                                      dbid_dict,uid_dict)\n",
    "    if memberDict!=None:\n",
    "        ent_list.append(memberDict)"
   ]
  },
  {
   "cell_type": "code",
   "execution_count": 93,
   "metadata": {},
   "outputs": [
    {
     "data": {
      "text/plain": [
       "[{'name': 'Alpha adrenergic receptor',\n",
       "  'drugbank_id': 'BE0004888',\n",
       "  'members': [{'name': 'Alpha-1A adrenergic receptor',\n",
       "    'drugbank_id': 'BE0000501',\n",
       "    'uniprot_id': 'P35348'},\n",
       "   {'name': 'Alpha-1B adrenergic receptor',\n",
       "    'drugbank_id': 'BE0000575',\n",
       "    'uniprot_id': 'P35368'},\n",
       "   {'name': 'Alpha-1D adrenergic receptor',\n",
       "    'drugbank_id': 'BE0000715',\n",
       "    'uniprot_id': 'P25100'},\n",
       "   {'name': 'Alpha-2A adrenergic receptor',\n",
       "    'drugbank_id': 'BE0000289',\n",
       "    'uniprot_id': 'P08913'},\n",
       "   {'name': 'Alpha-2B adrenergic receptor',\n",
       "    'drugbank_id': 'BE0000572',\n",
       "    'uniprot_id': 'P18089'},\n",
       "   {'name': 'Alpha-2C adrenergic receptor',\n",
       "    'drugbank_id': 'BE0000342',\n",
       "    'uniprot_id': 'P18825'}]},\n",
       " {'name': 'Beta adrenergic receptor',\n",
       "  'drugbank_id': 'BE0004872',\n",
       "  'members': [{'name': 'Beta-1 adrenergic receptor',\n",
       "    'drugbank_id': 'BE0000172',\n",
       "    'uniprot_id': 'P08588'},\n",
       "   {'name': 'Beta-2 adrenergic receptor',\n",
       "    'drugbank_id': 'BE0000694',\n",
       "    'uniprot_id': 'P07550'},\n",
       "   {'name': 'Beta-3 adrenergic receptor',\n",
       "    'drugbank_id': 'BE0001012',\n",
       "    'uniprot_id': 'P13945'}]},\n",
       " {'name': 'Serotonin Receptors',\n",
       "  'drugbank_id': 'BE0004862',\n",
       "  'members': [{'name': '5-hydroxytryptamine receptor 1A',\n",
       "    'drugbank_id': 'BE0000291',\n",
       "    'uniprot_id': 'P08908'},\n",
       "   {'name': '5-hydroxytryptamine receptor 1B',\n",
       "    'drugbank_id': 'BE0000797',\n",
       "    'uniprot_id': 'P28222'},\n",
       "   {'name': '5-hydroxytryptamine receptor 2A',\n",
       "    'drugbank_id': 'BE0000451',\n",
       "    'uniprot_id': 'P28223'},\n",
       "   {'name': '5-hydroxytryptamine receptor 3A',\n",
       "    'drugbank_id': 'BE0000311',\n",
       "    'uniprot_id': 'P46098'},\n",
       "   {'name': '5-hydroxytryptamine receptor 3B',\n",
       "    'drugbank_id': 'BE0009583',\n",
       "    'uniprot_id': 'O95264'},\n",
       "   {'name': '5-hydroxytryptamine receptor 7',\n",
       "    'drugbank_id': 'BE0000650',\n",
       "    'uniprot_id': 'P34969'}]},\n",
       " {'name': 'Voltage gated L-type calcium channel',\n",
       "  'drugbank_id': 'BE0009739',\n",
       "  'members': [{'name': 'Voltage-dependent L-type calcium channel subunit alpha-1C',\n",
       "    'drugbank_id': 'BE0000430',\n",
       "    'uniprot_id': 'Q13936'},\n",
       "   {'name': 'Voltage-dependent L-type calcium channel subunit alpha-1D',\n",
       "    'drugbank_id': 'BE0002359',\n",
       "    'uniprot_id': 'Q01668'},\n",
       "   {'name': 'Voltage-dependent L-type calcium channel subunit alpha-1F',\n",
       "    'drugbank_id': 'BE0002357',\n",
       "    'uniprot_id': 'O60840'},\n",
       "   {'name': 'Voltage-dependent L-type calcium channel subunit alpha-1S',\n",
       "    'drugbank_id': 'BE0002355',\n",
       "    'uniprot_id': 'Q13698'},\n",
       "   {'name': 'Voltage-dependent L-type calcium channel subunit beta-1',\n",
       "    'drugbank_id': 'BE0000303',\n",
       "    'uniprot_id': 'Q02641'},\n",
       "   {'name': 'Voltage-dependent L-type calcium channel subunit beta-2',\n",
       "    'drugbank_id': 'BE0002354',\n",
       "    'uniprot_id': 'Q08289'},\n",
       "   {'name': 'Voltage-dependent L-type calcium channel subunit beta-3',\n",
       "    'drugbank_id': 'BE0002358',\n",
       "    'uniprot_id': 'P54284'},\n",
       "   {'name': 'Voltage-dependent L-type calcium channel subunit beta-4',\n",
       "    'drugbank_id': 'BE0002356',\n",
       "    'uniprot_id': 'O00305'}]},\n",
       " {'name': 'Sulfonylurea receptor 1, Kir6.2',\n",
       "  'drugbank_id': 'BE0008670',\n",
       "  'members': [{'name': 'ATP-binding cassette sub-family C member 8',\n",
       "    'drugbank_id': 'BE0000207',\n",
       "    'uniprot_id': 'Q09428'},\n",
       "   {'name': 'ATP-sensitive inward rectifier potassium channel 11',\n",
       "    'drugbank_id': 'BE0000708',\n",
       "    'uniprot_id': 'Q14654'}]},\n",
       " {'name': 'alpha1-acid glycoprotein',\n",
       "  'drugbank_id': 'BE0004879',\n",
       "  'members': [{'name': 'Alpha-1-acid glycoprotein 1',\n",
       "    'drugbank_id': 'BE0000925',\n",
       "    'uniprot_id': 'P02763'},\n",
       "   {'name': 'Alpha-1-acid glycoprotein 2',\n",
       "    'drugbank_id': 'BE0003663',\n",
       "    'uniprot_id': 'P19652'}]},\n",
       " {'name': 'Voltage-dependent calcium channel',\n",
       "  'drugbank_id': 'BE0004902',\n",
       "  'members': [{'name': 'Voltage-dependent calcium channel gamma-1 subunit',\n",
       "    'drugbank_id': 'BE0000679',\n",
       "    'uniprot_id': 'Q06432'},\n",
       "   {'name': 'Voltage-dependent calcium channel subunit alpha-2/delta-1',\n",
       "    'drugbank_id': 'BE0000691',\n",
       "    'uniprot_id': 'P54289'},\n",
       "   {'name': 'Voltage-dependent calcium channel subunit alpha-2/delta-2',\n",
       "    'drugbank_id': 'BE0002396',\n",
       "    'uniprot_id': 'Q9NY47'},\n",
       "   {'name': 'Voltage-dependent calcium channel subunit alpha-2/delta-3',\n",
       "    'drugbank_id': 'BE0003563',\n",
       "    'uniprot_id': 'Q8IZS8'},\n",
       "   {'name': 'Voltage-dependent L-type calcium channel subunit alpha-1C',\n",
       "    'drugbank_id': 'BE0000430',\n",
       "    'uniprot_id': 'Q13936'},\n",
       "   {'name': 'Voltage-dependent L-type calcium channel subunit alpha-1D',\n",
       "    'drugbank_id': 'BE0002359',\n",
       "    'uniprot_id': 'Q01668'},\n",
       "   {'name': 'Voltage-dependent L-type calcium channel subunit alpha-1F',\n",
       "    'drugbank_id': 'BE0002357',\n",
       "    'uniprot_id': 'O60840'},\n",
       "   {'name': 'Voltage-dependent L-type calcium channel subunit alpha-1S',\n",
       "    'drugbank_id': 'BE0002355',\n",
       "    'uniprot_id': 'Q13698'},\n",
       "   {'name': 'Voltage-dependent L-type calcium channel subunit beta-1',\n",
       "    'drugbank_id': 'BE0000303',\n",
       "    'uniprot_id': 'Q02641'},\n",
       "   {'name': 'Voltage-dependent L-type calcium channel subunit beta-2',\n",
       "    'drugbank_id': 'BE0002354',\n",
       "    'uniprot_id': 'Q08289'},\n",
       "   {'name': 'Voltage-dependent L-type calcium channel subunit beta-3',\n",
       "    'drugbank_id': 'BE0002358',\n",
       "    'uniprot_id': 'P54284'},\n",
       "   {'name': 'Voltage-dependent L-type calcium channel subunit beta-4',\n",
       "    'drugbank_id': 'BE0002356',\n",
       "    'uniprot_id': 'O00305'},\n",
       "   {'name': 'Voltage-dependent N-type calcium channel subunit alpha-1B',\n",
       "    'drugbank_id': 'BE0002226',\n",
       "    'uniprot_id': 'Q00975'},\n",
       "   {'name': 'Voltage-dependent P/Q-type calcium channel subunit alpha-1A',\n",
       "    'drugbank_id': 'BE0000356',\n",
       "    'uniprot_id': 'O00555'},\n",
       "   {'name': 'Voltage-dependent T-type calcium channel subunit alpha-1G',\n",
       "    'drugbank_id': 'BE0000483',\n",
       "    'uniprot_id': 'O43497'},\n",
       "   {'name': 'Voltage-dependent T-type calcium channel subunit alpha-1H',\n",
       "    'drugbank_id': 'BE0000864',\n",
       "    'uniprot_id': 'O95180'},\n",
       "   {'name': 'Voltage-dependent T-type calcium channel subunit alpha-1I',\n",
       "    'drugbank_id': 'BE0000012',\n",
       "    'uniprot_id': 'Q9P0X4'}]},\n",
       " {'name': 'HERG human cardiac K+ channel',\n",
       "  'drugbank_id': 'BE0009629',\n",
       "  'members': [{'name': 'Potassium voltage-gated channel subfamily H member 2',\n",
       "    'drugbank_id': 'BE0000090',\n",
       "    'uniprot_id': 'Q12809'},\n",
       "   {'name': 'Potassium voltage-gated channel subfamily H member 6',\n",
       "    'drugbank_id': 'BE0000462',\n",
       "    'uniprot_id': 'Q9H252'},\n",
       "   {'name': 'Potassium voltage-gated channel subfamily H member 7',\n",
       "    'drugbank_id': 'BE0000699',\n",
       "    'uniprot_id': 'Q9NS40'}]},\n",
       " {'name': 'Carbonic anhydrase',\n",
       "  'drugbank_id': 'BE0009965',\n",
       "  'members': [{'name': 'Carbonic anhydrase 1',\n",
       "    'drugbank_id': 'BE0000267',\n",
       "    'uniprot_id': 'P00915'},\n",
       "   {'name': 'Carbonic anhydrase 2',\n",
       "    'drugbank_id': 'BE0000322',\n",
       "    'uniprot_id': 'P00918'},\n",
       "   {'name': 'Carbonic anhydrase 3',\n",
       "    'drugbank_id': 'BE0003625',\n",
       "    'uniprot_id': 'P07451'},\n",
       "   {'name': 'Carbonic anhydrase 4',\n",
       "    'drugbank_id': 'BE0000535',\n",
       "    'uniprot_id': 'P22748'},\n",
       "   {'name': 'Carbonic anhydrase 7',\n",
       "    'drugbank_id': 'BE0003629',\n",
       "    'uniprot_id': 'P43166'},\n",
       "   {'name': 'Carbonic anhydrase 9',\n",
       "    'drugbank_id': 'BE0002437',\n",
       "    'uniprot_id': 'Q16790'}]},\n",
       " {'name': 'Inward rectifier potassium channel',\n",
       "  'drugbank_id': 'BE0009631',\n",
       "  'members': [{'name': 'ATP-sensitive inward rectifier potassium channel 12',\n",
       "    'drugbank_id': 'BE0001131',\n",
       "    'uniprot_id': 'Q14500'},\n",
       "   {'name': 'Inward rectifier potassium channel 2',\n",
       "    'drugbank_id': 'BE0009710',\n",
       "    'uniprot_id': 'P63252'},\n",
       "   {'name': 'Inward rectifier potassium channel 4',\n",
       "    'drugbank_id': 'BE0005187',\n",
       "    'uniprot_id': 'P48050'}]},\n",
       " {'name': \"cAMP-specific 3',5'-cyclic phosphodiesterase 4\",\n",
       "  'drugbank_id': 'BE0009963',\n",
       "  'members': [{'name': \"cAMP-specific 3',5'-cyclic phosphodiesterase 4A\",\n",
       "    'drugbank_id': 'BE0001133',\n",
       "    'uniprot_id': 'P27815'},\n",
       "   {'name': \"cAMP-specific 3',5'-cyclic phosphodiesterase 4B\",\n",
       "    'drugbank_id': 'BE0000487',\n",
       "    'uniprot_id': 'Q07343'}]},\n",
       " {'name': 'Voltage-dependent T-type calcium channel',\n",
       "  'drugbank_id': 'BE0008716',\n",
       "  'members': [{'name': 'Voltage-dependent T-type calcium channel subunit alpha-1G',\n",
       "    'drugbank_id': 'BE0000483',\n",
       "    'uniprot_id': 'O43497'},\n",
       "   {'name': 'Voltage-dependent T-type calcium channel subunit alpha-1H',\n",
       "    'drugbank_id': 'BE0000864',\n",
       "    'uniprot_id': 'O95180'},\n",
       "   {'name': 'Voltage-dependent T-type calcium channel subunit alpha-1I',\n",
       "    'drugbank_id': 'BE0000012',\n",
       "    'uniprot_id': 'Q9P0X4'}]},\n",
       " {'name': 'Calcium-activated potassium channel',\n",
       "  'drugbank_id': 'BE0004906',\n",
       "  'members': [{'name': 'Calcium-activated potassium channel subunit alpha-1',\n",
       "    'drugbank_id': 'BE0000553',\n",
       "    'uniprot_id': 'Q12791'}]},\n",
       " {'name': 'Monoamine oxidase',\n",
       "  'drugbank_id': 'BE0004909',\n",
       "  'members': [{'name': 'Amine oxidase [flavin-containing] A',\n",
       "    'drugbank_id': 'BE0002198',\n",
       "    'uniprot_id': 'P21397'},\n",
       "   {'name': 'Amine oxidase [flavin-containing] B',\n",
       "    'drugbank_id': 'BE0002196',\n",
       "    'uniprot_id': 'P27338'}]},\n",
       " {'name': 'Voltage-dependent L-type calcium channel',\n",
       "  'drugbank_id': 'BE0008715',\n",
       "  'members': [{'name': 'Voltage-dependent L-type calcium channel subunit alpha-1C',\n",
       "    'drugbank_id': 'BE0000430',\n",
       "    'uniprot_id': 'Q13936'},\n",
       "   {'name': 'Voltage-dependent L-type calcium channel subunit alpha-1D',\n",
       "    'drugbank_id': 'BE0002359',\n",
       "    'uniprot_id': 'Q01668'},\n",
       "   {'name': 'Voltage-dependent L-type calcium channel subunit alpha-1F',\n",
       "    'drugbank_id': 'BE0002357',\n",
       "    'uniprot_id': 'O60840'},\n",
       "   {'name': 'Voltage-dependent L-type calcium channel subunit alpha-1S',\n",
       "    'drugbank_id': 'BE0002355',\n",
       "    'uniprot_id': 'Q13698'},\n",
       "   {'name': 'Voltage-dependent L-type calcium channel subunit beta-1',\n",
       "    'drugbank_id': 'BE0000303',\n",
       "    'uniprot_id': 'Q02641'},\n",
       "   {'name': 'Voltage-dependent L-type calcium channel subunit beta-2',\n",
       "    'drugbank_id': 'BE0002354',\n",
       "    'uniprot_id': 'Q08289'},\n",
       "   {'name': 'Voltage-dependent L-type calcium channel subunit beta-3',\n",
       "    'drugbank_id': 'BE0002358',\n",
       "    'uniprot_id': 'P54284'},\n",
       "   {'name': 'Voltage-dependent L-type calcium channel subunit beta-4',\n",
       "    'drugbank_id': 'BE0002356',\n",
       "    'uniprot_id': 'O00305'},\n",
       "   {'name': 'Voltage-dependent P/Q-type calcium channel subunit alpha-1A',\n",
       "    'drugbank_id': 'BE0000356',\n",
       "    'uniprot_id': 'O00555'}]},\n",
       " {'name': 'Alpha-2 adrenergic receptors',\n",
       "  'drugbank_id': 'BE0004864',\n",
       "  'members': [{'name': 'Alpha-2A adrenergic receptor',\n",
       "    'drugbank_id': 'BE0000289',\n",
       "    'uniprot_id': 'P08913'},\n",
       "   {'name': 'Alpha-2B adrenergic receptor',\n",
       "    'drugbank_id': 'BE0000572',\n",
       "    'uniprot_id': 'P18089'},\n",
       "   {'name': 'Alpha-2C adrenergic receptor',\n",
       "    'drugbank_id': 'BE0000342',\n",
       "    'uniprot_id': 'P18825'}]},\n",
       " {'name': 'Sodium channel protein',\n",
       "  'drugbank_id': 'BE0004901',\n",
       "  'members': [{'name': 'Sodium channel protein type 1 subunit alpha',\n",
       "    'drugbank_id': 'BE0000141',\n",
       "    'uniprot_id': 'P35498'},\n",
       "   {'name': 'Sodium channel protein type 10 subunit alpha',\n",
       "    'drugbank_id': 'BE0000177',\n",
       "    'uniprot_id': 'Q9Y5Y9'},\n",
       "   {'name': 'Sodium channel protein type 2 subunit alpha',\n",
       "    'drugbank_id': 'BE0002081',\n",
       "    'uniprot_id': 'Q99250'},\n",
       "   {'name': 'Sodium channel protein type 3 subunit alpha',\n",
       "    'drugbank_id': 'BE0002082',\n",
       "    'uniprot_id': 'Q9NY46'},\n",
       "   {'name': 'Sodium channel protein type 4 subunit alpha',\n",
       "    'drugbank_id': 'BE0002083',\n",
       "    'uniprot_id': 'P35499'},\n",
       "   {'name': 'Sodium channel protein type 5 subunit alpha',\n",
       "    'drugbank_id': 'BE0000197',\n",
       "    'uniprot_id': 'Q14524'},\n",
       "   {'name': 'Sodium channel protein type 8 subunit alpha',\n",
       "    'drugbank_id': 'BE0002084',\n",
       "    'uniprot_id': 'Q9UQD0'},\n",
       "   {'name': 'Sodium channel protein type 9 subunit alpha',\n",
       "    'drugbank_id': 'BE0001143',\n",
       "    'uniprot_id': 'Q15858'},\n",
       "   {'name': 'Sodium channel subunit beta-1',\n",
       "    'drugbank_id': 'BE0003635',\n",
       "    'uniprot_id': 'Q07699'}]},\n",
       " {'name': 'D(1) dopamine receptor',\n",
       "  'drugbank_id': 'BE0004889',\n",
       "  'members': [{'name': 'Dopamine D1 receptor',\n",
       "    'drugbank_id': 'BE0000020',\n",
       "    'uniprot_id': 'P21728'},\n",
       "   {'name': 'Dopamine D5 receptor',\n",
       "    'drugbank_id': 'BE0000145',\n",
       "    'uniprot_id': 'P21918'}]},\n",
       " {'name': 'Cytochrome P450 3A Subfamily',\n",
       "  'drugbank_id': 'BE0004866',\n",
       "  'members': [{'name': 'Cytochrome P450 3A4',\n",
       "    'drugbank_id': 'BE0002638',\n",
       "    'uniprot_id': 'P08684'},\n",
       "   {'name': 'Cytochrome P450 3A43',\n",
       "    'drugbank_id': 'BE0003550',\n",
       "    'uniprot_id': 'Q9HB55'},\n",
       "   {'name': 'Cytochrome P450 3A5',\n",
       "    'drugbank_id': 'BE0002362',\n",
       "    'uniprot_id': 'P20815'},\n",
       "   {'name': 'Cytochrome P450 3A7',\n",
       "    'drugbank_id': 'BE0003612',\n",
       "    'uniprot_id': 'P24462'}]},\n",
       " {'name': 'Alpha-1 adrenergic receptors',\n",
       "  'drugbank_id': 'BE0004863',\n",
       "  'members': [{'name': 'Alpha-1A adrenergic receptor',\n",
       "    'drugbank_id': 'BE0000501',\n",
       "    'uniprot_id': 'P35348'},\n",
       "   {'name': 'Alpha-1B adrenergic receptor',\n",
       "    'drugbank_id': 'BE0000575',\n",
       "    'uniprot_id': 'P35368'},\n",
       "   {'name': 'Alpha-1D adrenergic receptor',\n",
       "    'drugbank_id': 'BE0000715',\n",
       "    'uniprot_id': 'P25100'}]},\n",
       " {'name': 'Mitochondrial ATP-sensitive potassium channel',\n",
       "  'drugbank_id': 'BE0004923',\n",
       "  'members': [{'name': 'ATP-sensitive inward rectifier potassium channel 11',\n",
       "    'drugbank_id': 'BE0000708',\n",
       "    'uniprot_id': 'Q14654'},\n",
       "   {'name': 'ATP-sensitive inward rectifier potassium channel 8',\n",
       "    'drugbank_id': 'BE0002441',\n",
       "    'uniprot_id': 'Q15842'}]},\n",
       " {'name': 'Dopamine receptor',\n",
       "  'drugbank_id': 'BE0009376',\n",
       "  'members': [{'name': 'Dopamine D1 receptor',\n",
       "    'drugbank_id': 'BE0000020',\n",
       "    'uniprot_id': 'P21728'},\n",
       "   {'name': 'Dopamine D5 receptor',\n",
       "    'drugbank_id': 'BE0000145',\n",
       "    'uniprot_id': 'P21918'},\n",
       "   {'name': 'Dopamine D2 receptor',\n",
       "    'drugbank_id': 'BE0000756',\n",
       "    'uniprot_id': 'P14416'},\n",
       "   {'name': 'Dopamine D3 receptor',\n",
       "    'drugbank_id': 'BE0000581',\n",
       "    'uniprot_id': 'P35462'},\n",
       "   {'name': 'Dopamine D4 receptor',\n",
       "    'drugbank_id': 'BE0000389',\n",
       "    'uniprot_id': 'P21917'}]},\n",
       " {'name': 'Voltage-gated sodium channel alpha subunit',\n",
       "  'drugbank_id': 'BE0009738',\n",
       "  'members': [{'name': 'Sodium channel protein type 1 subunit alpha',\n",
       "    'drugbank_id': 'BE0000141',\n",
       "    'uniprot_id': 'P35498'},\n",
       "   {'name': 'Sodium channel protein type 10 subunit alpha',\n",
       "    'drugbank_id': 'BE0000177',\n",
       "    'uniprot_id': 'Q9Y5Y9'},\n",
       "   {'name': 'Sodium channel protein type 2 subunit alpha',\n",
       "    'drugbank_id': 'BE0002081',\n",
       "    'uniprot_id': 'Q99250'},\n",
       "   {'name': 'Sodium channel protein type 3 subunit alpha',\n",
       "    'drugbank_id': 'BE0002082',\n",
       "    'uniprot_id': 'Q9NY46'},\n",
       "   {'name': 'Sodium channel protein type 4 subunit alpha',\n",
       "    'drugbank_id': 'BE0002083',\n",
       "    'uniprot_id': 'P35499'},\n",
       "   {'name': 'Sodium channel protein type 5 subunit alpha',\n",
       "    'drugbank_id': 'BE0000197',\n",
       "    'uniprot_id': 'Q14524'},\n",
       "   {'name': 'Sodium channel protein type 8 subunit alpha',\n",
       "    'drugbank_id': 'BE0002084',\n",
       "    'uniprot_id': 'Q9UQD0'},\n",
       "   {'name': 'Sodium channel protein type 9 subunit alpha',\n",
       "    'drugbank_id': 'BE0001143',\n",
       "    'uniprot_id': 'Q15858'}]},\n",
       " {'name': 'Extracellular signal-regulated kinase (ERK)',\n",
       "  'drugbank_id': 'BE0009668',\n",
       "  'members': [{'name': 'Mitogen-activated protein kinase 1',\n",
       "    'drugbank_id': 'BE0000923',\n",
       "    'uniprot_id': 'P28482'}]},\n",
       " {'name': 'Cyclic nucleotide phosphodiesterase',\n",
       "  'drugbank_id': 'BE0004922',\n",
       "  'members': [{'name': \"Calcium/calmodulin-dependent 3',5'-cyclic nucleotide phosphodiesterase 1A\",\n",
       "    'drugbank_id': 'BE0003565',\n",
       "    'uniprot_id': 'P54750'},\n",
       "   {'name': \"Calcium/calmodulin-dependent 3',5'-cyclic nucleotide phosphodiesterase 1B\",\n",
       "    'drugbank_id': 'BE0003323',\n",
       "    'uniprot_id': 'Q01064'},\n",
       "   {'name': \"cAMP and cAMP-inhibited cGMP 3',5'-cyclic phosphodiesterase 10A\",\n",
       "    'drugbank_id': 'BE0000631',\n",
       "    'uniprot_id': 'Q9Y233'},\n",
       "   {'name': \"cAMP-specific 3',5'-cyclic phosphodiesterase 4A\",\n",
       "    'drugbank_id': 'BE0001133',\n",
       "    'uniprot_id': 'P27815'},\n",
       "   {'name': \"cAMP-specific 3',5'-cyclic phosphodiesterase 4B\",\n",
       "    'drugbank_id': 'BE0000487',\n",
       "    'uniprot_id': 'Q07343'},\n",
       "   {'name': \"cGMP-inhibited 3',5'-cyclic phosphodiesterase A\",\n",
       "    'drugbank_id': 'BE0000436',\n",
       "    'uniprot_id': 'Q14432'},\n",
       "   {'name': \"cGMP-inhibited 3',5'-cyclic phosphodiesterase B\",\n",
       "    'drugbank_id': 'BE0001223',\n",
       "    'uniprot_id': 'Q13370'},\n",
       "   {'name': \"cGMP-specific 3',5'-cyclic phosphodiesterase\",\n",
       "    'drugbank_id': 'BE0000182',\n",
       "    'uniprot_id': 'O76074'},\n",
       "   {'name': \"Dual 3',5'-cyclic-AMP and -GMP phosphodiesterase 11A\",\n",
       "    'drugbank_id': 'BE0003558',\n",
       "    'uniprot_id': 'Q9HCR9'}]}]"
      ]
     },
     "execution_count": 93,
     "metadata": {},
     "output_type": "execute_result"
    }
   ],
   "source": [
    "ent_list"
   ]
  },
  {
   "cell_type": "markdown",
   "metadata": {},
   "source": [
    "Make a list (ent_dbid) containing the DrugBank IDs of the protein groups."
   ]
  },
  {
   "cell_type": "code",
   "execution_count": 94,
   "metadata": {},
   "outputs": [],
   "source": [
    "ent_dbid = []\n",
    "for i in ent_list:\n",
    "    ent_dbid.append(i['drugbank_id'])"
   ]
  },
  {
   "cell_type": "markdown",
   "metadata": {},
   "source": [
    "Merge entities with the same UniProt ID"
   ]
  },
  {
   "cell_type": "code",
   "execution_count": 96,
   "metadata": {},
   "outputs": [
    {
     "data": {
      "text/plain": [
       "[{'name': 'Alpha-2 adrenergic receptors',\n",
       "  'drugbank_id': 'BE0004864',\n",
       "  'actions': ['agonist'],\n",
       "  'uniprot_id': 'P08913'},\n",
       " {'name': 'ATP-sensitive inward rectifier potassium channel 1',\n",
       "  'drugbank_id': 'BE0000644',\n",
       "  'actions': ['inhibitor'],\n",
       "  'uniprot_id': 'P48048'},\n",
       " {'name': 'Beta adrenergic receptor',\n",
       "  'drugbank_id': 'BE0004872',\n",
       "  'actions': ['antagonist'],\n",
       "  'uniprot_id': 'P08588'}]"
      ]
     },
     "execution_count": 96,
     "metadata": {},
     "output_type": "execute_result"
    }
   ],
   "source": [
    "# before merge\n",
    "DATA[21]['targets']"
   ]
  },
  {
   "cell_type": "code",
   "execution_count": 107,
   "metadata": {},
   "outputs": [],
   "source": [
    "DATA = oCleanseData.mergeDuplicateUIDs(ent_dbid,ent_list)"
   ]
  },
  {
   "cell_type": "code",
   "execution_count": 108,
   "metadata": {},
   "outputs": [
    {
     "data": {
      "text/plain": [
       "[{'name': 'ATP-sensitive inward rectifier potassium channel 1',\n",
       "  'drugbank_id': 'BE0000644',\n",
       "  'actions': ['inhibitor'],\n",
       "  'uniprot_id': 'P48048'},\n",
       " {'name': 'Alpha-2A adrenergic receptor',\n",
       "  'drugbank_id': 'BE0000289',\n",
       "  'uniprot_id': 'P08913',\n",
       "  'group_name': 'Alpha-2 adrenergic receptors',\n",
       "  'actions_of_group': ['agonist']},\n",
       " {'name': 'Alpha-2B adrenergic receptor',\n",
       "  'drugbank_id': 'BE0000572',\n",
       "  'uniprot_id': 'P18089',\n",
       "  'group_name': 'Alpha-2 adrenergic receptors',\n",
       "  'actions_of_group': ['agonist']},\n",
       " {'name': 'Alpha-2C adrenergic receptor',\n",
       "  'drugbank_id': 'BE0000342',\n",
       "  'uniprot_id': 'P18825',\n",
       "  'group_name': 'Alpha-2 adrenergic receptors',\n",
       "  'actions_of_group': ['agonist']},\n",
       " {'name': 'Beta-1 adrenergic receptor',\n",
       "  'drugbank_id': 'BE0000172',\n",
       "  'uniprot_id': 'P08588',\n",
       "  'group_name': 'Beta adrenergic receptor',\n",
       "  'actions_of_group': ['antagonist']},\n",
       " {'name': 'Beta-2 adrenergic receptor',\n",
       "  'drugbank_id': 'BE0000694',\n",
       "  'uniprot_id': 'P07550',\n",
       "  'group_name': 'Beta adrenergic receptor',\n",
       "  'actions_of_group': ['antagonist']},\n",
       " {'name': 'Beta-3 adrenergic receptor',\n",
       "  'drugbank_id': 'BE0001012',\n",
       "  'uniprot_id': 'P13945',\n",
       "  'group_name': 'Beta adrenergic receptor',\n",
       "  'actions_of_group': ['antagonist']}]"
      ]
     },
     "execution_count": 108,
     "metadata": {},
     "output_type": "execute_result"
    }
   ],
   "source": [
    "# after merge\n",
    "DATA[21]['targets']"
   ]
  },
  {
   "cell_type": "code",
   "execution_count": 110,
   "metadata": {},
   "outputs": [],
   "source": [
    "# re-initialize object with updated data\n",
    "oCleanseData = CleanseData(DATA)\n",
    "\n",
    "# call getDupUIDs method again to see if the duplicate Uniprot IDs are gone\n",
    "dup_uids = oCleanseData.getDupUIDs()"
   ]
  },
  {
   "cell_type": "code",
   "execution_count": 111,
   "metadata": {},
   "outputs": [
    {
     "data": {
      "text/plain": [
       "{}"
      ]
     },
     "execution_count": 111,
     "metadata": {},
     "output_type": "execute_result"
    }
   ],
   "source": [
    "# no more duplicate UniProt IDs!\n",
    "dup_uids"
   ]
  },
  {
   "cell_type": "markdown",
   "metadata": {},
   "source": [
    "Export cleansed data as json file"
   ]
  },
  {
   "cell_type": "code",
   "execution_count": 115,
   "metadata": {},
   "outputs": [],
   "source": [
    "with open(\"cvdrug_ent_pw.json\", 'w') as f:\n",
    "    json.dump(DATA,f)"
   ]
  }
 ],
 "metadata": {
  "kernelspec": {
   "display_name": "Python 3",
   "language": "python",
   "name": "python3"
  },
  "language_info": {
   "codemirror_mode": {
    "name": "ipython",
    "version": 3
   },
   "file_extension": ".py",
   "mimetype": "text/x-python",
   "name": "python",
   "nbconvert_exporter": "python",
   "pygments_lexer": "ipython3",
   "version": "3.8.5"
  }
 },
 "nbformat": 4,
 "nbformat_minor": 4
}
