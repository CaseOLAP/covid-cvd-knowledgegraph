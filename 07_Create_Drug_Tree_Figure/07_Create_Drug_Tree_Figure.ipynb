{
 "cells": [
  {
   "cell_type": "markdown",
   "id": "14558f09",
   "metadata": {},
   "source": [
    "### Using selenium to dynamically scrape ATC classifications from DrugBank in order to produce drug tree"
   ]
  },
  {
   "cell_type": "markdown",
   "id": "11c45b15",
   "metadata": {},
   "source": [
    "In this notebook, I will be using the selenium package to scrape info. from https://go.drugbank.com/atc, a dynamic web page. The goal is to produce a tree figure that looks like this: https://caseolap.github.io/covid-cvd-knowledgegraph/drugtree/index.html. The root node represents ATC level 1 (e.g. \"C\"), while the children nodes represent lower ATC levels (refer to https://www.who.int/tools/atc-ddd-toolkit/atc-classification). B/c the ATC DrugBank web page is dynamic, I must interact with the page (clicking, searching, etc.) in order to reveal more HTML elements that I can extract info. from. I used 2 different algorithms to do this. In summary, I did the following:\n",
    "1. Use both algorithms to extract the name (id) of the ATC code, and the ATC code itself (value) for all ATC codes that start with a \"C\" from our data. \n",
    "2. Save info. in data frame, which will then be converted to a csv file (refer to cvd_drug_tree.csv in repo).\n",
    "3. Create tree using csv file (html) "
   ]
  },
  {
   "cell_type": "code",
   "execution_count": 19,
   "id": "469df1b3",
   "metadata": {},
   "outputs": [],
   "source": [
    "import json\n",
    "import numpy as np\n",
    "import pandas as pd\n",
    "import time\n",
    "from time import sleep\n",
    "from selenium import webdriver\n",
    "from selenium.webdriver.common.keys import Keys\n",
    "from selenium.webdriver.common.by import By\n",
    "from selenium.webdriver.support.ui import WebDriverWait\n",
    "from selenium.webdriver.support import expected_conditions as EC"
   ]
  },
  {
   "cell_type": "code",
   "execution_count": 10,
   "id": "e2f22106",
   "metadata": {},
   "outputs": [],
   "source": [
    "with open('C:\\\\Users\\\\ttran\\\\OneDrive\\\\Desktop\\\\COVID-CDV-DATA\\\\covidii_KG\\\\covidii_import\\\\cvdrug_ent_drugpw.json') as f:\n",
    "    drug_data = json.load(f)"
   ]
  },
  {
   "cell_type": "code",
   "execution_count": 11,
   "id": "91ca9c31",
   "metadata": {},
   "outputs": [],
   "source": [
    "data_atc_codes = set()\n",
    "for drug in drug_data:\n",
    "    for code in drug['ATC code']:\n",
    "        data_atc_codes.add(code)"
   ]
  },
  {
   "cell_type": "code",
   "execution_count": 15,
   "id": "5e055176",
   "metadata": {},
   "outputs": [],
   "source": [
    "data_cvd_codes = {code for code in data_atc_codes if code[0]==\"C\"}"
   ]
  },
  {
   "cell_type": "markdown",
   "id": "4a7f37a2",
   "metadata": {},
   "source": [
    "First algorithm (search): From set containing all ATC codes that start with a \"C\" (data_cvd_codes), search up ATC code on https://go.drugbank.com/atc, clear search box. Do for all codes in set.\n",
    "\n",
    "Took around 400 seconds to run"
   ]
  },
  {
   "cell_type": "code",
   "execution_count": 22,
   "id": "760d6eb5",
   "metadata": {},
   "outputs": [
    {
     "name": "stdout",
     "output_type": "stream",
     "text": [
      "399.5164952278137\n"
     ]
    }
   ],
   "source": [
    "start = time.time()\n",
    "\n",
    "PATH = \"C:\\Program Files (x86)\\chromedriver.exe\"\n",
    "driver = webdriver.Chrome(PATH)\n",
    "driver.get(\"https://go.drugbank.com/atc\")\n",
    "driver.implicitly_wait(5)\n",
    "\n",
    "atc_codes = []\n",
    "atc_names = []\n",
    "\n",
    "for search_key in data_cvd_codes:\n",
    "    search = driver.find_element(By.CSS_SELECTOR, \"input[name='query'][type='search']\")\n",
    "    search.send_keys(search_key)\n",
    "    search.send_keys(Keys.RETURN)\n",
    "    atc_name_str = \"\"\n",
    "    for i in range(1,len(search_key)+1):\n",
    "        if i==2 or i==6: # if 2nd of 6th digit in code, skip.\n",
    "            continue\n",
    "        else:\n",
    "            search_key_id = search_key[:i] + \"_anchor\"\n",
    "            search_key_xpath = \"//*[@id='\" + search_key_id + \"']\" \n",
    "            atc_name_found = WebDriverWait(driver, 10).until(\n",
    "                EC.presence_of_element_located((By.XPATH, search_key_xpath))\n",
    "            )\n",
    "            if i==1:\n",
    "                atc_name_str = atc_name_str + atc_name_found.text\n",
    "            else:\n",
    "                atc_name_str =  atc_name_str + \";\" + atc_name_found.text\n",
    "            if search_key[:i] not in atc_codes:\n",
    "                atc_codes.append(search_key[:i])\n",
    "                atc_names.append(atc_name_str)\n",
    "    driver.find_element(By.CSS_SELECTOR, \"input[name='query'][type='search']\").clear() # clear search box\n",
    "atc_dict = {'id': atc_names,'value': atc_codes}\n",
    "\n",
    "end = time.time()\n",
    "print(end - start)"
   ]
  },
  {
   "cell_type": "markdown",
   "id": "823eed05",
   "metadata": {},
   "source": [
    "Second algorithm (recursively click and then extract info): recursively click on all tabs under \"Cardiovascular system (C)\" tab to expand all of them, and then extract the info. \n",
    "\n",
    "Took around 93 seconds to run -> much more efficient; ~1/4 the time of the first algorithm"
   ]
  },
  {
   "cell_type": "code",
   "execution_count": 20,
   "id": "df990b66",
   "metadata": {},
   "outputs": [
    {
     "name": "stdout",
     "output_type": "stream",
     "text": [
      "93.40204572677612\n"
     ]
    }
   ],
   "source": [
    "start = time.time()\n",
    "\n",
    "PATH = \"C:\\Program Files (x86)\\chromedriver.exe\"\n",
    "driver = webdriver.Chrome(PATH)\n",
    "driver.get(\"https://go.drugbank.com/atc\")\n",
    "driver.implicitly_wait(5)\n",
    "\n",
    "def recursive_click(n=1):\n",
    "    if n == 5:\n",
    "        return\n",
    "    else:\n",
    "        if n == 1:\n",
    "            ATC_lvl = driver.find_elements(By.CSS_SELECTOR, f\"li[role='treeitem'][aria-level='{n}'][id='C']\")\n",
    "        else:\n",
    "            ATC_lvl = driver.find_elements(By.CSS_SELECTOR, f\"li[role='treeitem'][aria-level='{n}'][aria-expanded='false']\")\n",
    "        for ele in ATC_lvl:\n",
    "            expand_icon = ele.find_element(By.CSS_SELECTOR, \"i\")\n",
    "            driver.execute_script(\"arguments[0].click();\", expand_icon)\n",
    "            sleep(0.25) # wait 0.25 seconds before clicking on next tab; ensures that clicks are not intercepting one another.\n",
    "        recursive_click(n + 1)\n",
    "\n",
    "recursive_click()\n",
    "\n",
    "cvd_codes = []\n",
    "cvd_names = []\n",
    "\n",
    "for cvd_code in data_cvd_codes:\n",
    "    cvd_name_str = \"\"\n",
    "    for i in range(1,len(cvd_code)+1):\n",
    "        if i==2 or i==6: # if 2nd of 6th digit in code, skip.\n",
    "            continue\n",
    "        else:\n",
    "            cvd_code_id = cvd_code[:i] + \"_anchor\"\n",
    "            cvd_code_xpath = \"//*[@id='\" + cvd_code_id + \"']\" \n",
    "            cvd_name_found = WebDriverWait(driver, 10).until(\n",
    "                EC.presence_of_element_located((By.XPATH, cvd_code_xpath))\n",
    "            )\n",
    "            if i==1:\n",
    "                cvd_name_str = cvd_name_str + cvd_name_found.text\n",
    "            else:\n",
    "                cvd_name_str =  cvd_name_str + \";\" + cvd_name_found.text\n",
    "            if cvd_code[:i] not in cvd_codes:\n",
    "                cvd_codes.append(cvd_code[:i])\n",
    "                cvd_names.append(cvd_name_str)\n",
    "atc_dict = {'id': cvd_names,'value': cvd_codes}\n",
    "\n",
    "end = time.time()\n",
    "print(end - start)"
   ]
  },
  {
   "cell_type": "code",
   "execution_count": 23,
   "id": "22acaa49",
   "metadata": {},
   "outputs": [],
   "source": [
    "atc_df = pd.DataFrame.from_dict(atc_dict)"
   ]
  },
  {
   "cell_type": "code",
   "execution_count": 24,
   "id": "1bde7618",
   "metadata": {},
   "outputs": [
    {
     "data": {
      "text/html": [
       "<div>\n",
       "<style scoped>\n",
       "    .dataframe tbody tr th:only-of-type {\n",
       "        vertical-align: middle;\n",
       "    }\n",
       "\n",
       "    .dataframe tbody tr th {\n",
       "        vertical-align: top;\n",
       "    }\n",
       "\n",
       "    .dataframe thead th {\n",
       "        text-align: right;\n",
       "    }\n",
       "</style>\n",
       "<table border=\"1\" class=\"dataframe\">\n",
       "  <thead>\n",
       "    <tr style=\"text-align: right;\">\n",
       "      <th></th>\n",
       "      <th>id</th>\n",
       "      <th>value</th>\n",
       "    </tr>\n",
       "  </thead>\n",
       "  <tbody>\n",
       "    <tr>\n",
       "      <th>4</th>\n",
       "      <td>Cardiovascular system (C);Peripheral vasodilat...</td>\n",
       "      <td>C04AE02</td>\n",
       "    </tr>\n",
       "    <tr>\n",
       "      <th>8</th>\n",
       "      <td>Cardiovascular system (C);Cardiac therapy (C01...</td>\n",
       "      <td>C01CA02</td>\n",
       "    </tr>\n",
       "    <tr>\n",
       "      <th>11</th>\n",
       "      <td>Cardiovascular system (C);Cardiac therapy (C01...</td>\n",
       "      <td>C01BD05</td>\n",
       "    </tr>\n",
       "    <tr>\n",
       "      <th>15</th>\n",
       "      <td>Cardiovascular system (C);Antihypertensives (C...</td>\n",
       "      <td>C02LE01</td>\n",
       "    </tr>\n",
       "    <tr>\n",
       "      <th>19</th>\n",
       "      <td>Cardiovascular system (C);Agents acting on the...</td>\n",
       "      <td>C09DX05</td>\n",
       "    </tr>\n",
       "    <tr>\n",
       "      <th>...</th>\n",
       "      <td>...</td>\n",
       "      <td>...</td>\n",
       "    </tr>\n",
       "    <tr>\n",
       "      <th>582</th>\n",
       "      <td>Cardiovascular system (C);Calcium channel bloc...</td>\n",
       "      <td>C08DA02</td>\n",
       "    </tr>\n",
       "    <tr>\n",
       "      <th>583</th>\n",
       "      <td>Cardiovascular system (C);Cardiac therapy (C01...</td>\n",
       "      <td>C01BG11</td>\n",
       "    </tr>\n",
       "    <tr>\n",
       "      <th>584</th>\n",
       "      <td>Cardiovascular system (C);Beta blocking agents...</td>\n",
       "      <td>C07AA14</td>\n",
       "    </tr>\n",
       "    <tr>\n",
       "      <th>585</th>\n",
       "      <td>Cardiovascular system (C);Antihypertensives (C...</td>\n",
       "      <td>C02AC02</td>\n",
       "    </tr>\n",
       "    <tr>\n",
       "      <th>586</th>\n",
       "      <td>Cardiovascular system (C);Diuretics (C03);Low-...</td>\n",
       "      <td>C03BB04</td>\n",
       "    </tr>\n",
       "  </tbody>\n",
       "</table>\n",
       "<p>440 rows × 2 columns</p>\n",
       "</div>"
      ],
      "text/plain": [
       "                                                    id    value\n",
       "4    Cardiovascular system (C);Peripheral vasodilat...  C04AE02\n",
       "8    Cardiovascular system (C);Cardiac therapy (C01...  C01CA02\n",
       "11   Cardiovascular system (C);Cardiac therapy (C01...  C01BD05\n",
       "15   Cardiovascular system (C);Antihypertensives (C...  C02LE01\n",
       "19   Cardiovascular system (C);Agents acting on the...  C09DX05\n",
       "..                                                 ...      ...\n",
       "582  Cardiovascular system (C);Calcium channel bloc...  C08DA02\n",
       "583  Cardiovascular system (C);Cardiac therapy (C01...  C01BG11\n",
       "584  Cardiovascular system (C);Beta blocking agents...  C07AA14\n",
       "585  Cardiovascular system (C);Antihypertensives (C...  C02AC02\n",
       "586  Cardiovascular system (C);Diuretics (C03);Low-...  C03BB04\n",
       "\n",
       "[440 rows x 2 columns]"
      ]
     },
     "execution_count": 24,
     "metadata": {},
     "output_type": "execute_result"
    }
   ],
   "source": [
    "atc_df[atc_df['value'].apply(lambda x: len(x)==7)]"
   ]
  },
  {
   "cell_type": "code",
   "execution_count": 25,
   "id": "37042db2",
   "metadata": {},
   "outputs": [
    {
     "data": {
      "text/plain": [
       "440"
      ]
     },
     "execution_count": 25,
     "metadata": {},
     "output_type": "execute_result"
    }
   ],
   "source": [
    "len(data_cvd_codes) "
   ]
  },
  {
   "cell_type": "code",
   "execution_count": 26,
   "id": "169dc8a3",
   "metadata": {},
   "outputs": [],
   "source": [
    "atc_df = atc_df.sort_values('value')"
   ]
  },
  {
   "cell_type": "code",
   "execution_count": 27,
   "id": "75ed3c82",
   "metadata": {},
   "outputs": [],
   "source": [
    "atc_df.to_csv('C:\\\\Users\\\\ttran\\\\OneDrive\\\\Desktop\\\\COVID-CDV-DATA\\\\cvd_drug_tree.csv', index=False)"
   ]
  }
 ],
 "metadata": {
  "kernelspec": {
   "display_name": "Python 3 (ipykernel)",
   "language": "python",
   "name": "python3"
  },
  "language_info": {
   "codemirror_mode": {
    "name": "ipython",
    "version": 3
   },
   "file_extension": ".py",
   "mimetype": "text/x-python",
   "name": "python",
   "nbconvert_exporter": "python",
   "pygments_lexer": "ipython3",
   "version": "3.9.7"
  }
 },
 "nbformat": 4,
 "nbformat_minor": 5
}
